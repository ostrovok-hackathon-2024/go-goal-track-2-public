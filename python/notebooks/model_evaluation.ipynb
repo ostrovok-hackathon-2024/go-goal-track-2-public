{
 "cells": [
  {
   "cell_type": "markdown",
   "metadata": {},
   "source": [
    "# Model evaluation"
   ]
  },
  {
   "cell_type": "markdown",
   "metadata": {},
   "source": [
    "## Initialization"
   ]
  },
  {
   "cell_type": "code",
   "execution_count": 2,
   "metadata": {},
   "outputs": [
    {
     "name": "stdout",
     "output_type": "stream",
     "text": [
      "Requirement already satisfied: catboost in /Users/isofinly/Go-Goal-Track-2/.venv/lib/python3.12/site-packages (1.2.7)\n",
      "Requirement already satisfied: graphviz in /Users/isofinly/Go-Goal-Track-2/.venv/lib/python3.12/site-packages (from catboost) (0.20.3)\n",
      "Requirement already satisfied: matplotlib in /Users/isofinly/Go-Goal-Track-2/.venv/lib/python3.12/site-packages (from catboost) (3.9.2)\n",
      "Requirement already satisfied: numpy<2.0,>=1.16.0 in /Users/isofinly/Go-Goal-Track-2/.venv/lib/python3.12/site-packages (from catboost) (1.26.4)\n",
      "Requirement already satisfied: pandas>=0.24 in /Users/isofinly/Go-Goal-Track-2/.venv/lib/python3.12/site-packages (from catboost) (2.2.3)\n",
      "Requirement already satisfied: scipy in /Users/isofinly/Go-Goal-Track-2/.venv/lib/python3.12/site-packages (from catboost) (1.14.1)\n",
      "Requirement already satisfied: plotly in /Users/isofinly/Go-Goal-Track-2/.venv/lib/python3.12/site-packages (from catboost) (5.24.1)\n",
      "Requirement already satisfied: six in /Users/isofinly/Go-Goal-Track-2/.venv/lib/python3.12/site-packages (from catboost) (1.16.0)\n",
      "Requirement already satisfied: python-dateutil>=2.8.2 in /Users/isofinly/Go-Goal-Track-2/.venv/lib/python3.12/site-packages (from pandas>=0.24->catboost) (2.9.0.post0)\n",
      "Requirement already satisfied: pytz>=2020.1 in /Users/isofinly/Go-Goal-Track-2/.venv/lib/python3.12/site-packages (from pandas>=0.24->catboost) (2024.2)\n",
      "Requirement already satisfied: tzdata>=2022.7 in /Users/isofinly/Go-Goal-Track-2/.venv/lib/python3.12/site-packages (from pandas>=0.24->catboost) (2024.2)\n",
      "Requirement already satisfied: contourpy>=1.0.1 in /Users/isofinly/Go-Goal-Track-2/.venv/lib/python3.12/site-packages (from matplotlib->catboost) (1.3.0)\n",
      "Requirement already satisfied: cycler>=0.10 in /Users/isofinly/Go-Goal-Track-2/.venv/lib/python3.12/site-packages (from matplotlib->catboost) (0.12.1)\n",
      "Requirement already satisfied: fonttools>=4.22.0 in /Users/isofinly/Go-Goal-Track-2/.venv/lib/python3.12/site-packages (from matplotlib->catboost) (4.54.1)\n",
      "Requirement already satisfied: kiwisolver>=1.3.1 in /Users/isofinly/Go-Goal-Track-2/.venv/lib/python3.12/site-packages (from matplotlib->catboost) (1.4.7)\n",
      "Requirement already satisfied: packaging>=20.0 in /Users/isofinly/Go-Goal-Track-2/.venv/lib/python3.12/site-packages (from matplotlib->catboost) (24.1)\n",
      "Requirement already satisfied: pillow>=8 in /Users/isofinly/Go-Goal-Track-2/.venv/lib/python3.12/site-packages (from matplotlib->catboost) (10.4.0)\n",
      "Requirement already satisfied: pyparsing>=2.3.1 in /Users/isofinly/Go-Goal-Track-2/.venv/lib/python3.12/site-packages (from matplotlib->catboost) (3.1.4)\n",
      "Requirement already satisfied: tenacity>=6.2.0 in /Users/isofinly/Go-Goal-Track-2/.venv/lib/python3.12/site-packages (from plotly->catboost) (8.5.0)\n",
      "Requirement already satisfied: optuna in /Users/isofinly/Go-Goal-Track-2/.venv/lib/python3.12/site-packages (4.0.0)\n",
      "Requirement already satisfied: alembic>=1.5.0 in /Users/isofinly/Go-Goal-Track-2/.venv/lib/python3.12/site-packages (from optuna) (1.13.3)\n",
      "Requirement already satisfied: colorlog in /Users/isofinly/Go-Goal-Track-2/.venv/lib/python3.12/site-packages (from optuna) (6.8.2)\n",
      "Requirement already satisfied: numpy in /Users/isofinly/Go-Goal-Track-2/.venv/lib/python3.12/site-packages (from optuna) (1.26.4)\n",
      "Requirement already satisfied: packaging>=20.0 in /Users/isofinly/Go-Goal-Track-2/.venv/lib/python3.12/site-packages (from optuna) (24.1)\n",
      "Requirement already satisfied: sqlalchemy>=1.3.0 in /Users/isofinly/Go-Goal-Track-2/.venv/lib/python3.12/site-packages (from optuna) (2.0.35)\n",
      "Requirement already satisfied: tqdm in /Users/isofinly/Go-Goal-Track-2/.venv/lib/python3.12/site-packages (from optuna) (4.66.5)\n",
      "Requirement already satisfied: PyYAML in /Users/isofinly/Go-Goal-Track-2/.venv/lib/python3.12/site-packages (from optuna) (6.0.2)\n",
      "Requirement already satisfied: Mako in /Users/isofinly/Go-Goal-Track-2/.venv/lib/python3.12/site-packages (from alembic>=1.5.0->optuna) (1.3.5)\n",
      "Requirement already satisfied: typing-extensions>=4 in /Users/isofinly/Go-Goal-Track-2/.venv/lib/python3.12/site-packages (from alembic>=1.5.0->optuna) (4.12.2)\n",
      "Requirement already satisfied: MarkupSafe>=0.9.2 in /Users/isofinly/Go-Goal-Track-2/.venv/lib/python3.12/site-packages (from Mako->alembic>=1.5.0->optuna) (2.1.5)\n",
      "Requirement already satisfied: dill in /Users/isofinly/Go-Goal-Track-2/.venv/lib/python3.12/site-packages (0.3.9)\n",
      "Requirement already satisfied: psutil in /Users/isofinly/Go-Goal-Track-2/.venv/lib/python3.12/site-packages (6.0.0)\n",
      "Requirement already satisfied: scikit-learn in /Users/isofinly/Go-Goal-Track-2/.venv/lib/python3.12/site-packages (1.5.2)\n",
      "Requirement already satisfied: numpy>=1.19.5 in /Users/isofinly/Go-Goal-Track-2/.venv/lib/python3.12/site-packages (from scikit-learn) (1.26.4)\n",
      "Requirement already satisfied: scipy>=1.6.0 in /Users/isofinly/Go-Goal-Track-2/.venv/lib/python3.12/site-packages (from scikit-learn) (1.14.1)\n",
      "Requirement already satisfied: joblib>=1.2.0 in /Users/isofinly/Go-Goal-Track-2/.venv/lib/python3.12/site-packages (from scikit-learn) (1.4.2)\n",
      "Requirement already satisfied: threadpoolctl>=3.1.0 in /Users/isofinly/Go-Goal-Track-2/.venv/lib/python3.12/site-packages (from scikit-learn) (3.5.0)\n"
     ]
    }
   ],
   "source": [
    "!pip install catboost\n",
    "!pip install optuna\n",
    "!pip install dill\n",
    "!pip install psutil\n",
    "!pip install scikit-learn"
   ]
  },
  {
   "cell_type": "code",
   "execution_count": 2,
   "metadata": {},
   "outputs": [
    {
     "name": "stderr",
     "output_type": "stream",
     "text": [
      "/Users/isofinly/Go-Goal-Track-2/.venv/lib/python3.12/site-packages/tqdm/auto.py:21: TqdmWarning: IProgress not found. Please update jupyter and ipywidgets. See https://ipywidgets.readthedocs.io/en/stable/user_install.html\n",
      "  from .autonotebook import tqdm as notebook_tqdm\n"
     ]
    }
   ],
   "source": [
    "from catboost import CatBoostClassifier, Pool\n",
    "import numpy as np\n",
    "import time\n",
    "import os\n",
    "import pandas as pd\n",
    "from sklearn.preprocessing import LabelEncoder\n",
    "from sklearn.model_selection import train_test_split\n",
    "from sklearn.feature_extraction.text import TfidfVectorizer\n",
    "from sklearn.metrics import classification_report\n",
    "import optuna\n",
    "import json\n",
    "import psutil\n",
    "from datetime import datetime\n",
    "import csv\n",
    "from difflib import SequenceMatcher\n",
    "from collections import defaultdict\n",
    "import joblib\n"
   ]
  },
  {
   "cell_type": "markdown",
   "metadata": {},
   "source": [
    "## Batch prediction"
   ]
  },
  {
   "cell_type": "code",
   "execution_count": 3,
   "metadata": {},
   "outputs": [
    {
     "name": "stdout",
     "output_type": "stream",
     "text": [
      "\n",
      "Batch prediction:\n",
      "{\n",
      "  \"capacity\": \"undefined\",\n",
      "  \"quality\": \"premium\",\n",
      "  \"view\": \"mountain view\",\n",
      "  \"bedding\": \"undefined\",\n",
      "  \"balcony\": \"balcony\",\n",
      "  \"bedrooms\": \"undefined\",\n",
      "  \"club\": \"not club\",\n",
      "  \"floor\": \"undefined\",\n",
      "  \"bathroom\": \"private bathroom\",\n",
      "  \"class\": \"room\"\n",
      "}\n"
     ]
    }
   ],
   "source": [
    "categories = [\n",
    "    \"capacity\",\n",
    "    \"quality\",\n",
    "    \"view\",\n",
    "    \"bedding\",\n",
    "    \"balcony\",\n",
    "    \"bedrooms\",\n",
    "    \"club\",\n",
    "    \"floor\",\n",
    "    \"bathroom\",\n",
    "    \"class\",\n",
    "]\n",
    "models_dir = \"../../artifacts\"\n",
    "\n",
    "models = {}\n",
    "label_encoders = {}\n",
    "tfidf = joblib.load(f\"{models_dir}/tfidf/tfidf_vectorizer.joblib\")\n",
    "\n",
    "for category in categories:\n",
    "    model_path = os.path.join(f\"{models_dir}/cbm\", f\"catboost_model_{category}.cbm\")\n",
    "    model = CatBoostClassifier()\n",
    "    model.load_model(model_path)\n",
    "    models[category] = model\n",
    "\n",
    "    le = LabelEncoder()\n",
    "    le.classes_ = np.load(\n",
    "        f\"{models_dir}/labels/npy/label_encoder_{category}.npy\", allow_pickle=True\n",
    "    )\n",
    "    label_encoders[category] = le\n",
    "\n",
    "\n",
    "def batch_predict(rate_names):\n",
    "    input_data = np.array(rate_names)\n",
    "    input_tfidf = tfidf.transform(input_data)\n",
    "    results = []\n",
    "\n",
    "    for category in categories:\n",
    "        predictions = models[category].predict(input_tfidf)\n",
    "        decoded_predictions = label_encoders[category].classes_[predictions.ravel()]\n",
    "        results.append(decoded_predictions)\n",
    "\n",
    "    return [\n",
    "        {category: value for category, value in zip(categories, row)}\n",
    "        for row in zip(*results)\n",
    "    ]\n",
    "\n",
    "\n",
    "# Example usage\n",
    "batch_examples = [\"King Premium Mountain View no balcony\"]\n",
    "\n",
    "print(\"\\nBatch prediction:\")\n",
    "batch_results = batch_predict(batch_examples)\n",
    "for result in batch_results:\n",
    "    print(json.dumps(result, indent=2))"
   ]
  },
  {
   "cell_type": "markdown",
   "metadata": {},
   "source": [
    "## Batch prediction to a file"
   ]
  },
  {
   "cell_type": "code",
   "execution_count": 8,
   "metadata": {},
   "outputs": [
    {
     "name": "stdout",
     "output_type": "stream",
     "text": [
      "Results have been saved to batch_prediction_results.csv in the outputs directory\n",
      "Processed 180443 entries\n"
     ]
    }
   ],
   "source": [
    "input_file = \"../../inputs/rates_dirty.csv\"  # Replace with your input CSV file path\n",
    "df_input = pd.read_csv(input_file)\n",
    "df_input = df_input.fillna(\"undefined\")\n",
    "\n",
    "\n",
    "# Ensure 'rate_name' column exists\n",
    "if \"rate_name\" not in df_input.columns:\n",
    "    raise ValueError(\"The input CSV must contain a 'rate_name' column\")\n",
    "\n",
    "# Process in batches\n",
    "batch_size = 5500\n",
    "results = []\n",
    "\n",
    "for i in range(0, len(df_input), batch_size):\n",
    "    batch = df_input[\"rate_name\"][i : i + batch_size].tolist()\n",
    "    batch_results = batch_predict(batch)\n",
    "    results.extend(batch_results)\n",
    "\n",
    "df_results = pd.DataFrame(results)\n",
    "df_results[\"rate_name\"] = df_input[\"rate_name\"]\n",
    "\n",
    "# Reorder columns to have 'rate_name' first\n",
    "columns = [\"rate_name\"] + categories\n",
    "df_results = df_results[columns]\n",
    "\n",
    "df_results.to_csv(\"../../outputs/batch_prediction_results.csv\", index=False)\n",
    "\n",
    "print(\"Results have been saved to batch_prediction_results.csv in the outputs directory\")\n",
    "print(f\"Processed {len(df_input)} entries\")"
   ]
  },
  {
   "cell_type": "markdown",
   "metadata": {},
   "source": [
    "## Find mismatches for given CSV"
   ]
  },
  {
   "cell_type": "code",
   "execution_count": 6,
   "metadata": {},
   "outputs": [
    {
     "name": "stdout",
     "output_type": "stream",
     "text": [
      "\n",
      "Overall error rate: 0.09\n",
      "Total rows: 180443\n",
      "Rows with errors: 16638\n",
      "\n",
      "Column Error Statistics:\n",
      "Column capacity: Error rate = 0.04, Errors = 7854\n",
      "Column bedding: Error rate = 0.04, Errors = 7701\n",
      "Column view: Error rate = 0.02, Errors = 3902\n",
      "Column bathroom: Error rate = 0.01, Errors = 2508\n",
      "Column class: Error rate = 0.02, Errors = 2790\n",
      "Column quality: Error rate = 0.03, Errors = 4644\n",
      "Column bedrooms: Error rate = 0.01, Errors = 2214\n",
      "Column club: Error rate = 0.01, Errors = 1988\n",
      "Column floor: Error rate = 0.01, Errors = 2012\n",
      "\n",
      "Mismatches have been saved to 'mismatches.json'\n"
     ]
    }
   ],
   "source": [
    "def calculate_similarity(a, b):\n",
    "    return SequenceMatcher(None, a, b).ratio()\n",
    "\n",
    "\n",
    "def compare_csv_files(file1_path, file2_path, threshold=0.8):\n",
    "    with open(file1_path, \"r\") as file1, open(file2_path, \"r\") as file2:\n",
    "        reader1 = csv.DictReader(file1)\n",
    "        reader2 = csv.DictReader(file2)\n",
    "\n",
    "        total_rows = 0\n",
    "        error_rows = 0\n",
    "        column_errors = defaultdict(int)\n",
    "        mismatches = []\n",
    "\n",
    "        for row1, row2 in zip(reader1, reader2):\n",
    "            total_rows += 1\n",
    "            row_errors = 0\n",
    "            row_mismatches = {}\n",
    "\n",
    "            for cat in categories:\n",
    "                val1 = row1.get(cat, \"\")\n",
    "                val2 = row2.get(cat, \"\")\n",
    "                val1 = \"\" if val1 == \"undefined\" else val1\n",
    "                val2 = \"\" if val2 == \"undefined\" else val2\n",
    "\n",
    "                similarity = calculate_similarity(val1, val2)\n",
    "                if similarity < threshold:\n",
    "                    row_errors += 1\n",
    "                    column_errors[cat] += 1\n",
    "                    row_mismatches[cat] = {\"expected\": val2, \"received\": val1}\n",
    "\n",
    "            if row_errors > 0:\n",
    "                error_rows += 1\n",
    "                mismatches.append(\n",
    "                    {\n",
    "                        \"row\": total_rows,\n",
    "                        \"rate_name\": row1.get(\"rate_name\", \"N/A\"),\n",
    "                        \"mismatches\": row_mismatches,\n",
    "                    }\n",
    "                )\n",
    "\n",
    "        overall_error_rate = error_rows / total_rows\n",
    "        print(f\"\\nOverall error rate: {overall_error_rate:.2f}\")\n",
    "        print(f\"Total rows: {total_rows}\")\n",
    "        print(f\"Rows with errors: {error_rows}\")\n",
    "\n",
    "        print(\"\\nColumn Error Statistics:\")\n",
    "        for cat, error_count in column_errors.items():\n",
    "            column_error_rate = error_count / total_rows\n",
    "            print(\n",
    "                f\"Column {cat}: Error rate = {column_error_rate:.2f}, Errors = {error_count}\"\n",
    "            )\n",
    "\n",
    "        with open(\"../../outputs/mismatches.json\", \"w\") as f:\n",
    "            json.dump(mismatches, f, indent=2)\n",
    "\n",
    "        print(\"\\nMismatches have been saved to 'mismatches.json'\")\n",
    "\n",
    "\n",
    "# Usage\n",
    "file1_path = \"../../inputs/rates_dirty.csv\"\n",
    "file2_path = \"../../outputs/o.csv\"\n",
    "\n",
    "compare_csv_files(file1_path, file2_path)"
   ]
  }
 ],
 "metadata": {
  "kernelspec": {
   "display_name": ".venv",
   "language": "python",
   "name": "python3"
  },
  "language_info": {
   "codemirror_mode": {
    "name": "ipython",
    "version": 3
   },
   "file_extension": ".py",
   "mimetype": "text/x-python",
   "name": "python",
   "nbconvert_exporter": "python",
   "pygments_lexer": "ipython3",
   "version": "3.12.6"
  }
 },
 "nbformat": 4,
 "nbformat_minor": 2
}
