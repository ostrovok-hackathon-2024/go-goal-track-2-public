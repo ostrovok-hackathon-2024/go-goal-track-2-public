{
 "cells": [
  {
   "cell_type": "markdown",
   "metadata": {},
   "source": [
    "# Model evaluation"
   ]
  },
  {
   "cell_type": "markdown",
   "metadata": {},
   "source": [
    "## Initialization"
   ]
  },
  {
   "cell_type": "code",
   "execution_count": null,
   "metadata": {},
   "outputs": [],
   "source": [
    "!pip install catboost\n",
    "!pip install optuna\n",
    "!pip install dill\n",
    "!pip install psutil\n",
    "!pip install scikit-learn"
   ]
  },
  {
   "cell_type": "code",
   "execution_count": 1,
   "metadata": {},
   "outputs": [
    {
     "name": "stderr",
     "output_type": "stream",
     "text": [
      "/Users/isofinly/Go-Goal-Track-2/.venv/lib/python3.12/site-packages/tqdm/auto.py:21: TqdmWarning: IProgress not found. Please update jupyter and ipywidgets. See https://ipywidgets.readthedocs.io/en/stable/user_install.html\n",
      "  from .autonotebook import tqdm as notebook_tqdm\n"
     ]
    }
   ],
   "source": [
    "from catboost import CatBoostClassifier, Pool\n",
    "import numpy as np\n",
    "import time\n",
    "import os\n",
    "import pandas as pd\n",
    "from sklearn.preprocessing import LabelEncoder\n",
    "from sklearn.model_selection import train_test_split\n",
    "from sklearn.feature_extraction.text import TfidfVectorizer\n",
    "from sklearn.metrics import classification_report\n",
    "import optuna\n",
    "import json\n",
    "import psutil\n",
    "from datetime import datetime\n",
    "import csv\n",
    "from difflib import SequenceMatcher\n",
    "from collections import defaultdict\n",
    "import joblib\n"
   ]
  },
  {
   "cell_type": "markdown",
   "metadata": {},
   "source": [
    "## Batch prediction"
   ]
  },
  {
   "cell_type": "code",
   "execution_count": 2,
   "metadata": {},
   "outputs": [
    {
     "name": "stdout",
     "output_type": "stream",
     "text": [
      "\n",
      "Batch prediction:\n",
      "{\n",
      "  \"capacity\": \"undefined\",\n",
      "  \"quality\": \"premium\",\n",
      "  \"view\": \"mountain view\",\n",
      "  \"bedding\": \"undefined\",\n",
      "  \"balcony\": \"balcony\",\n",
      "  \"bedrooms\": \"undefined\",\n",
      "  \"club\": \"not club\",\n",
      "  \"floor\": \"undefined\",\n",
      "  \"bathroom\": \"private bathroom\",\n",
      "  \"class\": \"room\"\n",
      "}\n"
     ]
    }
   ],
   "source": [
    "categories = [\n",
    "    \"capacity\",\n",
    "    \"quality\",\n",
    "    \"view\",\n",
    "    \"bedding\",\n",
    "    \"balcony\",\n",
    "    \"bedrooms\",\n",
    "    \"club\",\n",
    "    \"floor\",\n",
    "    \"bathroom\",\n",
    "    \"class\",\n",
    "]\n",
    "models_dir = \"../artifacts/models\"\n",
    "\n",
    "models = {}\n",
    "label_encoders = {}\n",
    "tfidf = joblib.load(f\"{models_dir}/tfidf_vectorizer.joblib\")\n",
    "\n",
    "for category in categories:\n",
    "    model_path = os.path.join(f\"{models_dir}/cbm\", f\"catboost_model_{category}.cbm\")\n",
    "    model = CatBoostClassifier()\n",
    "    model.load_model(model_path)\n",
    "    models[category] = model\n",
    "\n",
    "    le = LabelEncoder()\n",
    "    le.classes_ = np.load(\n",
    "        f\"{models_dir}/label_text/label_encoder_{category}.npy\", allow_pickle=True\n",
    "    )\n",
    "    label_encoders[category] = le\n",
    "\n",
    "\n",
    "def batch_predict(rate_names):\n",
    "    input_data = pd.Series(rate_names)\n",
    "    input_tfidf = tfidf.transform(input_data)\n",
    "    results = []\n",
    "\n",
    "    for category in categories:\n",
    "        predictions = models[category].predict(input_tfidf)\n",
    "        predictions = predictions.ravel()\n",
    "        decoded_predictions = label_encoders[category].inverse_transform(predictions)\n",
    "        results.append(decoded_predictions)\n",
    "\n",
    "    return [\n",
    "        {\n",
    "            category: value.item() if isinstance(value, np.integer) else value\n",
    "            for category, value in zip(categories, row)\n",
    "        }\n",
    "        for row in zip(*results)\n",
    "    ]\n",
    "\n",
    "\n",
    "# Example usage\n",
    "batch_examples = [\"King Premium Mountain View no balcony\"]\n",
    "\n",
    "print(\"\\nBatch prediction:\")\n",
    "batch_results = batch_predict(batch_examples)\n",
    "for result in batch_results:\n",
    "    print(json.dumps(result, indent=2))"
   ]
  },
  {
   "cell_type": "markdown",
   "metadata": {},
   "source": [
    "## Batch prediction to a file"
   ]
  },
  {
   "cell_type": "code",
   "execution_count": 5,
   "metadata": {},
   "outputs": [
    {
     "name": "stdout",
     "output_type": "stream",
     "text": [
      "\n",
      "Results have been saved to ./batch_prediction_results.csv\n",
      "Processed 180443 entries\n"
     ]
    }
   ],
   "source": [
    "# Load the CSV file\n",
    "input_file = \"rates_dirty.csv\"  # Replace with your input CSV file path\n",
    "df_input = pd.read_csv(input_file)\n",
    "df_input = df_input.fillna(\"undefined\")\n",
    "\n",
    "\n",
    "# Ensure 'rate_name' column exists\n",
    "if \"rate_name\" not in df_input.columns:\n",
    "    raise ValueError(\"The input CSV must contain a 'rate_name' column\")\n",
    "\n",
    "# Process in batches\n",
    "batch_size = 5500\n",
    "results = []\n",
    "\n",
    "for i in range(0, len(df_input), batch_size):\n",
    "    batch = df_input[\"rate_name\"][i : i + batch_size].tolist()\n",
    "    batch_results = batch_predict(batch)\n",
    "    results.extend(batch_results)\n",
    "\n",
    "# Create DataFrame from results\n",
    "df_results = pd.DataFrame(results)\n",
    "\n",
    "# Add the original rate names to the DataFrame\n",
    "df_results[\"rate_name\"] = df_input[\"rate_name\"]\n",
    "\n",
    "# Reorder columns to have 'rate_name' first\n",
    "columns = [\"rate_name\"] + categories\n",
    "df_results = df_results[columns]\n",
    "\n",
    "# Save the results as a CSV file in the models_dir\n",
    "output_file = os.path.join(\".\", \"batch_prediction_results.csv\")\n",
    "df_results.to_csv(output_file, index=False)\n",
    "\n",
    "print(f\"\\nResults have been saved to {output_file}\")\n",
    "print(f\"Processed {len(df_input)} entries\")"
   ]
  },
  {
   "cell_type": "markdown",
   "metadata": {},
   "source": [
    "## Find mismatches for given CSV"
   ]
  },
  {
   "cell_type": "code",
   "execution_count": 6,
   "metadata": {},
   "outputs": [
    {
     "name": "stdout",
     "output_type": "stream",
     "text": [
      "\n",
      "Overall error rate: 0.09\n",
      "Total rows: 180443\n",
      "Rows with errors: 16646\n",
      "\n",
      "Column Error Statistics:\n",
      "Column capacity: Error rate = 0.04, Errors = 7858\n",
      "Column bedding: Error rate = 0.04, Errors = 7704\n",
      "Column view: Error rate = 0.02, Errors = 3902\n",
      "Column bathroom: Error rate = 0.01, Errors = 2509\n",
      "Column class: Error rate = 0.02, Errors = 2790\n",
      "Column quality: Error rate = 0.03, Errors = 4647\n",
      "Column bedrooms: Error rate = 0.01, Errors = 2214\n",
      "Column club: Error rate = 0.01, Errors = 1988\n",
      "Column floor: Error rate = 0.01, Errors = 2012\n",
      "\n",
      "Mismatches have been saved to 'mismatches.json'\n"
     ]
    }
   ],
   "source": [
    "def calculate_similarity(a, b):\n",
    "    return SequenceMatcher(None, a, b).ratio()\n",
    "\n",
    "\n",
    "def compare_csv_files(file1_path, file2_path, threshold=0.8):\n",
    "    with open(file1_path, \"r\") as file1, open(file2_path, \"r\") as file2:\n",
    "        reader1 = csv.DictReader(file1)\n",
    "        reader2 = csv.DictReader(file2)\n",
    "\n",
    "        total_rows = 0\n",
    "        error_rows = 0\n",
    "        column_errors = defaultdict(int)\n",
    "        mismatches = []\n",
    "\n",
    "        for row1, row2 in zip(reader1, reader2):\n",
    "            total_rows += 1\n",
    "            row_errors = 0\n",
    "            row_mismatches = {}\n",
    "\n",
    "            for cat in categories:\n",
    "                val1 = row1.get(cat, \"\")\n",
    "                val2 = row2.get(cat, \"\")\n",
    "                val1 = \"\" if val1 == \"undefined\" else val1\n",
    "                val2 = \"\" if val2 == \"undefined\" else val2\n",
    "\n",
    "                similarity = calculate_similarity(val1, val2)\n",
    "                if similarity < threshold:\n",
    "                    row_errors += 1\n",
    "                    column_errors[cat] += 1\n",
    "                    row_mismatches[cat] = {\"expected\": val2, \"received\": val1}\n",
    "\n",
    "            if row_errors > 0:\n",
    "                error_rows += 1\n",
    "                mismatches.append(\n",
    "                    {\n",
    "                        \"row\": total_rows,\n",
    "                        \"rate_name\": row1.get(\"rate_name\", \"N/A\"),\n",
    "                        \"mismatches\": row_mismatches,\n",
    "                    }\n",
    "                )\n",
    "\n",
    "        overall_error_rate = error_rows / total_rows\n",
    "        print(f\"\\nOverall error rate: {overall_error_rate:.2f}\")\n",
    "        print(f\"Total rows: {total_rows}\")\n",
    "        print(f\"Rows with errors: {error_rows}\")\n",
    "\n",
    "        print(\"\\nColumn Error Statistics:\")\n",
    "        for cat, error_count in column_errors.items():\n",
    "            column_error_rate = error_count / total_rows\n",
    "            print(\n",
    "                f\"Column {cat}: Error rate = {column_error_rate:.2f}, Errors = {error_count}\"\n",
    "            )\n",
    "\n",
    "        with open(\"mismatches.json\", \"w\") as f:\n",
    "            json.dump(mismatches, f, indent=2)\n",
    "\n",
    "        print(\"\\nMismatches have been saved to 'mismatches.json'\")\n",
    "\n",
    "\n",
    "# Usage\n",
    "file1_path = \"rates_dirty.csv\"\n",
    "file2_path = \"batch_prediction_results.csv\"\n",
    "\n",
    "compare_csv_files(file1_path, file2_path)"
   ]
  }
 ],
 "metadata": {
  "kernelspec": {
   "display_name": ".venv",
   "language": "python",
   "name": "python3"
  },
  "language_info": {
   "codemirror_mode": {
    "name": "ipython",
    "version": 3
   },
   "file_extension": ".py",
   "mimetype": "text/x-python",
   "name": "python",
   "nbconvert_exporter": "python",
   "pygments_lexer": "ipython3",
   "version": "3.12.6"
  }
 },
 "nbformat": 4,
 "nbformat_minor": 2
}
